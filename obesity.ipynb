{
 "cells": [
  {
   "cell_type": "code",
   "execution_count": 4,
   "id": "723e97b8",
   "metadata": {},
   "outputs": [
    {
     "name": "stdout",
     "output_type": "stream",
     "text": [
      "   Gender  Age  Height  Weight family_history_with_overweight  \\\n",
      "0  Female   21    1.62      64                            yes   \n",
      "1  Female   21    1.52      56                            yes   \n",
      "2    Male   23    1.80      77                            yes   \n",
      "3    Male   27    1.80      87                             no   \n",
      "4    Male   22    1.78      90                             no   \n",
      "\n",
      "  eat_high_caloric_food  eat_vegetables_frequency  main_meals_day  \\\n",
      "0                    no                         2               3   \n",
      "1                    no                         3               3   \n",
      "2                    no                         2               3   \n",
      "3                    no                         3               3   \n",
      "4                    no                         2               1   \n",
      "\n",
      "  eat_between_meals smoke  water_day monitor_calories  exercise_frequency  \\\n",
      "0         Sometimes    no          2               no                   0   \n",
      "1         Sometimes   yes          3              yes                   3   \n",
      "2         Sometimes    no          2               no                   2   \n",
      "3         Sometimes    no          2               no                   2   \n",
      "4         Sometimes    no          2               no                   0   \n",
      "\n",
      "   device_time drink_alcohol         transport_mode       obese_category  \n",
      "0            1            no  Public_Transportation        Normal_Weight  \n",
      "1            0     Sometimes  Public_Transportation        Normal_Weight  \n",
      "2            1    Frequently  Public_Transportation        Normal_Weight  \n",
      "3            0    Frequently                Walking   Overweight_Level_I  \n",
      "4            0     Sometimes  Public_Transportation  Overweight_Level_II  \n"
     ]
    }
   ],
   "source": [
    "import pandas as pd\n",
    "import matplotlib.pyplot as plt\n",
    "import numpy as np\n",
    "import seaborn as sns\n",
    "from sklearn.model_selection import train_test_split  # aaron said 80 20\n",
    "import warnings\n",
    "warnings.filterwarnings('ignore')\n",
    "\n",
    "plt.style.use('ggplot')\n",
    "\n",
    "\n",
    "df = pd.read_csv('ObesityDataSet.csv')\n",
    "\n",
    "\n",
    "\n",
    "print(df.head())\n",
    "\n",
    "X = df.drop(columns=['obese_category'])  # 'obesity_level' is target variable\n",
    "y = df['obese_category']\n",
    "\n",
    "# Splits the data into training and testing sets\n",
    "X_train, X_test, y_train, y_test = train_test_split(X, y, test_size=0.2, random_state=42)\n",
    "\n",
    "# X_train and y_train will contain 80% of the data for training\n",
    "# X_test and y_test will contain 20% of the data for testing\n"
   ]
  },
  {
   "cell_type": "code",
   "execution_count": 47,
   "id": "8c0f4673",
   "metadata": {},
   "outputs": [
    {
     "name": "stdout",
     "output_type": "stream",
     "text": [
      "['Gender', 'Age', 'Height', 'Weight', 'family_history_with_overweight', 'eat_high_caloric_food', 'eat_vegetables_frequency', 'main_meals_day', 'eat_between_meals', 'smoke', 'water_day', 'monitor_calories', 'exercise_frequency', 'device_time', 'drink_alcohol', 'transport_mode', 'obese_category']\n"
     ]
    }
   ],
   "source": [
    "parameter_names = df.columns.tolist()\n",
    "print(parameter_names)\n"
   ]
  },
  {
   "cell_type": "code",
   "execution_count": 46,
   "id": "75076a6a",
   "metadata": {},
   "outputs": [
    {
     "name": "stdout",
     "output_type": "stream",
     "text": [
      "Index(['Gender', 'Age', 'Height', 'Weight', 'family_history_with_overweight',\n",
      "       'eat_high_caloric_food', 'eat_vegetables_frequency', 'main_meals_day',\n",
      "       'eat_between_meals', 'smoke', 'water_day', 'monitor_calories',\n",
      "       'exercise_frequency', 'device_time', 'drink_alcohol', 'transport_mode'],\n",
      "      dtype='object')\n"
     ]
    }
   ],
   "source": [
    "print(X.columns) #all the independent variables"
   ]
  },
  {
   "cell_type": "code",
   "execution_count": 45,
   "id": "6f1b419e",
   "metadata": {},
   "outputs": [
    {
     "name": "stdout",
     "output_type": "stream",
     "text": [
      "0             Normal_Weight\n",
      "1             Normal_Weight\n",
      "2             Normal_Weight\n",
      "3        Overweight_Level_I\n",
      "4       Overweight_Level_II\n",
      "               ...         \n",
      "2106       Obesity_Type_III\n",
      "2107       Obesity_Type_III\n",
      "2108       Obesity_Type_III\n",
      "2109       Obesity_Type_III\n",
      "2110       Obesity_Type_III\n",
      "Name: obese_category, Length: 2111, dtype: object\n"
     ]
    }
   ],
   "source": [
    "print(y) #this is the dependent variable we're gonna use"
   ]
  },
  {
   "cell_type": "code",
   "execution_count": 52,
   "id": "30ae3b89",
   "metadata": {},
   "outputs": [
    {
     "name": "stdout",
     "output_type": "stream",
     "text": [
      "Gender                             object\n",
      "Age                               float64\n",
      "Height                            float64\n",
      "Weight                            float64\n",
      "family_history_with_overweight     object\n",
      "eat_high_caloric_food              object\n",
      "eat_vegetables_frequency          float64\n",
      "main_meals_day                    float64\n",
      "eat_between_meals                  object\n",
      "smoke                              object\n",
      "water_day                         float64\n",
      "monitor_calories                   object\n",
      "exercise_frequency                float64\n",
      "device_time                       float64\n",
      "drink_alcohol                      object\n",
      "transport_mode                     object\n",
      "dtype: object\n"
     ]
    }
   ],
   "source": [
    "print(X.dtypes)"
   ]
  },
  {
   "cell_type": "code",
   "execution_count": null,
   "id": "b7d46328",
   "metadata": {},
   "outputs": [],
   "source": []
  },
  {
   "cell_type": "code",
   "execution_count": null,
   "id": "41cbc37e",
   "metadata": {},
   "outputs": [],
   "source": []
  },
  {
   "cell_type": "code",
   "execution_count": null,
   "id": "dab60107",
   "metadata": {},
   "outputs": [],
   "source": []
  },
  {
   "cell_type": "code",
   "execution_count": null,
   "id": "edb72100",
   "metadata": {},
   "outputs": [],
   "source": []
  },
  {
   "cell_type": "code",
   "execution_count": null,
   "id": "a138293e",
   "metadata": {},
   "outputs": [],
   "source": []
  }
 ],
 "metadata": {
  "kernelspec": {
   "display_name": "Python 3 (ipykernel)",
   "language": "python",
   "name": "python3"
  },
  "language_info": {
   "codemirror_mode": {
    "name": "ipython",
    "version": 3
   },
   "file_extension": ".py",
   "mimetype": "text/x-python",
   "name": "python",
   "nbconvert_exporter": "python",
   "pygments_lexer": "ipython3",
   "version": "3.11.4"
  }
 },
 "nbformat": 4,
 "nbformat_minor": 5
}
