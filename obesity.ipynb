{
 "cells": [
  {
   "cell_type": "code",
   "execution_count": 46,
   "id": "723e97b8",
   "metadata": {},
   "outputs": [
    {
     "name": "stdout",
     "output_type": "stream",
     "text": [
      "   Gender  Age  Height  Weight  family_history_with_overweight  \\\n",
      "0       0    7      16      25                               1   \n",
      "1       0    7       6      17                               1   \n",
      "2       1    9      34      38                               1   \n",
      "3       1   13      34      48                               0   \n",
      "4       1    8      32      51                               0   \n",
      "\n",
      "   eat_high_caloric_food  eat_vegetables_frequency  main_meals_day  \\\n",
      "0                      0                         1               2   \n",
      "1                      0                         2               2   \n",
      "2                      0                         1               2   \n",
      "3                      0                         2               2   \n",
      "4                      0                         1               0   \n",
      "\n",
      "   eat_between_meals  smoke  water_day  monitor_calories  exercise_frequency  \\\n",
      "0                  2      0          1                 0                   0   \n",
      "1                  2      1          2                 1                   3   \n",
      "2                  2      0          1                 0                   2   \n",
      "3                  2      0          1                 0                   2   \n",
      "4                  2      0          1                 0                   0   \n",
      "\n",
      "   device_time  drink_alcohol  transport_mode  \n",
      "0            1              3               3  \n",
      "1            0              2               3  \n",
      "2            1              1               3  \n",
      "3            0              1               4  \n",
      "4            0              2               3  \n"
     ]
    }
   ],
   "source": [
    "import pandas as pd\n",
    "import matplotlib.pyplot as plt\n",
    "import numpy as np\n",
    "import seaborn as sns\n",
    "from scipy.stats import zscore\n",
    "from sklearn.model_selection import train_test_split  # aaron said 80 20\n",
    "import warnings\n",
    "from sklearn.preprocessing import LabelEncoder\n",
    "warnings.filterwarnings('ignore')\n",
    "\n",
    "\n",
    "plt.style.use('ggplot')\n",
    "\n",
    "\n",
    "df = pd.read_csv('ObesityDataSet.csv')\n",
    "\n",
    "for col in df:\n",
    "    df[col] = le.fit_transform(df[col])\n",
    "\n",
    "\n",
    "\n",
    "\n",
    "\n",
    "X = df.drop(columns=['obese_category'])  # 'obesity_level' is target variable\n",
    "y = df['obese_category']\n",
    "print(X.head())\n",
    "# Splits the data into training and testing sets\n",
    "X_train, X_test, y_train, y_test = train_test_split(X, y, test_size=0.2, random_state=42)\n",
    "\n",
    "# X_train and y_train will contain 80% of the data for training\n",
    "# X_test and y_test will contain 20% of the data for testing\n"
   ]
  },
  {
   "cell_type": "code",
   "execution_count": 47,
   "id": "8c0f4673",
   "metadata": {},
   "outputs": [
    {
     "name": "stdout",
     "output_type": "stream",
     "text": [
      "['Gender', 'Age', 'Height', 'Weight', 'family_history_with_overweight', 'eat_high_caloric_food', 'eat_vegetables_frequency', 'main_meals_day', 'eat_between_meals', 'smoke', 'water_day', 'monitor_calories', 'exercise_frequency', 'device_time', 'drink_alcohol', 'transport_mode', 'obese_category']\n"
     ]
    }
   ],
   "source": [
    "parameter_names = df.columns.tolist()\n",
    "print(parameter_names)\n"
   ]
  },
  {
   "cell_type": "code",
   "execution_count": 48,
   "id": "30ae3b89",
   "metadata": {},
   "outputs": [
    {
     "name": "stdout",
     "output_type": "stream",
     "text": [
      "Gender                            int32\n",
      "Age                               int64\n",
      "Height                            int64\n",
      "Weight                            int64\n",
      "family_history_with_overweight    int32\n",
      "eat_high_caloric_food             int32\n",
      "eat_vegetables_frequency          int64\n",
      "main_meals_day                    int64\n",
      "eat_between_meals                 int32\n",
      "smoke                             int32\n",
      "water_day                         int64\n",
      "monitor_calories                  int32\n",
      "exercise_frequency                int64\n",
      "device_time                       int64\n",
      "drink_alcohol                     int32\n",
      "transport_mode                    int32\n",
      "dtype: object\n"
     ]
    }
   ],
   "source": [
    "print(X.dtypes)"
   ]
  },
  {
   "cell_type": "code",
   "execution_count": 49,
   "id": "b7d46328",
   "metadata": {},
   "outputs": [
    {
     "data": {
      "text/plain": [
       "Gender                            0\n",
       "Age                               0\n",
       "Height                            0\n",
       "Weight                            0\n",
       "family_history_with_overweight    0\n",
       "eat_high_caloric_food             0\n",
       "eat_vegetables_frequency          0\n",
       "main_meals_day                    0\n",
       "eat_between_meals                 0\n",
       "smoke                             0\n",
       "water_day                         0\n",
       "monitor_calories                  0\n",
       "exercise_frequency                0\n",
       "device_time                       0\n",
       "drink_alcohol                     0\n",
       "transport_mode                    0\n",
       "dtype: int64"
      ]
     },
     "execution_count": 49,
     "metadata": {},
     "output_type": "execute_result"
    }
   ],
   "source": [
    "X.isnull().sum() #to check for missing values, should be none for us\n",
    "\n"
   ]
  },
  {
   "cell_type": "code",
   "execution_count": 50,
   "id": "a138293e",
   "metadata": {},
   "outputs": [],
   "source": [
    "#target_mapping = {\n",
    " #   'Insufficient_Weight': 0,\n",
    "  #  'Normal_Weight': 1,\n",
    "   # 'Overweight_Level_I': 2,\n",
    "    #'Overweight_Level_II': 3,\n",
    "    #'Obesity_Type_I': 4,\n",
    "    #'Obesity_Type_II': 5,\n",
    "    #'Obesity_Type_III': 6\n",
    "#}\n",
    "#X['BMI'] = X['Weight']/(X['Height']**2)\n",
    "\n",
    "#X.reset_index(drop=True, inplace=True)\n",
    "#print(X.head())\n",
    "# Splits the data into training and testing sets\n",
    "X_train, X_test, y_train, y_test = train_test_split(X, y, test_size=0.2, random_state=42)"
   ]
  },
  {
   "cell_type": "code",
   "execution_count": 8,
   "id": "910adaa5",
   "metadata": {
    "collapsed": true
   },
   "outputs": [
    {
     "name": "stdout",
     "output_type": "stream",
     "text": [
      "  Gender   Age  Height  Weight family_history_with_overweight  \\\n",
      "0    NaN  21.0    1.62    64.0                            NaN   \n",
      "1    NaN  21.0    1.52    56.0                            NaN   \n",
      "2    NaN  23.0    1.80    77.0                            NaN   \n",
      "3    NaN  27.0    1.80    87.0                            NaN   \n",
      "4    NaN  22.0    1.78    90.0                            NaN   \n",
      "\n",
      "  eat_high_caloric_food  eat_vegetables_frequency  main_meals_day  \\\n",
      "0                   NaN                         2               3   \n",
      "1                   NaN                         3               3   \n",
      "2                   NaN                         2               3   \n",
      "3                   NaN                         3               3   \n",
      "4                   NaN                         2               1   \n",
      "\n",
      "  eat_between_meals smoke  water_day monitor_calories  exercise_frequency  \\\n",
      "0               NaN   NaN          2              NaN                   0   \n",
      "1               NaN   NaN          3              NaN                   3   \n",
      "2               NaN   NaN          2              NaN                   2   \n",
      "3               NaN   NaN          2              NaN                   2   \n",
      "4               NaN   NaN          2              NaN                   0   \n",
      "\n",
      "   device_time drink_alcohol transport_mode        BMI  \n",
      "0            1           NaN            NaN  24.386526  \n",
      "1            0           NaN            NaN  24.238227  \n",
      "2            1           NaN            NaN  23.765432  \n",
      "3            0           NaN            NaN  26.851852  \n",
      "4            0           NaN            NaN  28.405504  \n"
     ]
    }
   ],
   "source": [
    "mean = X.mean()\n",
    "std = X.std()\n",
    "\n",
    "# Calculate the lower and upper bounds\n",
    "lower_bound = mean - 3 * std\n",
    "upper_bound = mean + 3 * std\n",
    "\n",
    "# Remove data points outside of the bounds\n",
    "cleaned_X = X[(X >= lower_bound) & (X <= upper_bound)]\n",
    "\n",
    "print(cleaned_X.head())\n"
   ]
  },
  {
   "cell_type": "code",
   "execution_count": 51,
   "id": "5a6fa57c",
   "metadata": {
    "collapsed": true
   },
   "outputs": [
    {
     "name": "stdout",
     "output_type": "stream",
     "text": [
      "<bound method NDFrame.describe of       Gender  Age  Height  Weight  family_history_with_overweight  \\\n",
      "162        0    7      17      21                               1   \n",
      "2001       0    7      29      95                               1   \n",
      "1435       0    9      20      44                               1   \n",
      "649        0    8      13       5                               0   \n",
      "1280       1   12      35      67                               1   \n",
      "...      ...  ...     ...     ...                             ...   \n",
      "1638       1   18      29      81                               1   \n",
      "1095       1    9      26      43                               1   \n",
      "1130       0    9      19      41                               1   \n",
      "1294       0    9      17      45                               1   \n",
      "860        1    6      36      46                               1   \n",
      "\n",
      "      eat_high_caloric_food  eat_vegetables_frequency  main_meals_day  \\\n",
      "162                       1                         2               2   \n",
      "2001                      1                         2               2   \n",
      "1435                      1                         0               0   \n",
      "649                       0                         2               1   \n",
      "1280                      1                         2               2   \n",
      "...                     ...                       ...             ...   \n",
      "1638                      1                         2               2   \n",
      "1095                      1                         1               1   \n",
      "1130                      1                         1               2   \n",
      "1294                      1                         1               2   \n",
      "860                       1                         2               2   \n",
      "\n",
      "      eat_between_meals  smoke  water_day  monitor_calories  \\\n",
      "162                   0      1          1                 0   \n",
      "2001                  2      0          2                 0   \n",
      "1435                  2      0          2                 0   \n",
      "649                   1      0          2                 0   \n",
      "1280                  2      0          2                 0   \n",
      "...                 ...    ...        ...               ...   \n",
      "1638                  2      0          2                 0   \n",
      "1095                  2      0          0                 0   \n",
      "1130                  2      0          1                 0   \n",
      "1294                  2      0          1                 0   \n",
      "860                   2      0          2                 0   \n",
      "\n",
      "      exercise_frequency  device_time  drink_alcohol  transport_mode  \n",
      "162                    2            0              2               3  \n",
      "2001                   1            1              2               3  \n",
      "1435                   0            2              2               3  \n",
      "649                    1            0              3               3  \n",
      "1280                   2            1              2               3  \n",
      "...                  ...          ...            ...             ...  \n",
      "1638                   1            1              2               0  \n",
      "1095                   1            1              2               3  \n",
      "1130                   0            2              3               3  \n",
      "1294                   1            1              3               3  \n",
      "860                    2            1              2               3  \n",
      "\n",
      "[1688 rows x 16 columns]>\n"
     ]
    }
   ],
   "source": [
    "print(X_train.describe)"
   ]
  },
  {
   "cell_type": "code",
   "execution_count": 14,
   "id": "c27ec04f",
   "metadata": {},
   "outputs": [
    {
     "name": "stdout",
     "output_type": "stream",
     "text": [
      "0             Normal_Weight\n",
      "1             Normal_Weight\n",
      "2             Normal_Weight\n",
      "3        Overweight_Level_I\n",
      "4       Overweight_Level_II\n",
      "               ...         \n",
      "2106       Obesity_Type_III\n",
      "2107       Obesity_Type_III\n",
      "2108       Obesity_Type_III\n",
      "2109       Obesity_Type_III\n",
      "2110       Obesity_Type_III\n",
      "Name: obese_category, Length: 2111, dtype: object\n"
     ]
    }
   ],
   "source": [
    "print(y)"
   ]
  },
  {
   "cell_type": "code",
   "execution_count": 9,
   "id": "49a2baea",
   "metadata": {
    "collapsed": true
   },
   "outputs": [
    {
     "data": {
      "image/png": "[encoded data removed]",
      "text/plain": [
       "<Figure size 900x900 with 1 Axes>"
      ]
     },
     "metadata": {},
     "output_type": "display_data"
    }
   ],
   "source": [
    "obese_category_counts = y.value_counts()\n",
    "\n",
    "plt.figure(figsize=(9, 9))\n",
    "plt.pie(obese_category_counts, labels=obese_category_counts.index, autopct='%1.1f%%', startangle=140)\n",
    "plt.axis('equal')  # Equal aspect ratio ensures that pie is drawn as a circle.\n",
    "plt.title('Distribution of Obese Categories')\n",
    "plt.show()"
   ]
  },
  {
   "cell_type": "code",
   "execution_count": null,
   "id": "98fdb0d4",
   "metadata": {},
   "outputs": [],
   "source": []
  },
  {
   "cell_type": "code",
   "execution_count": 53,
   "id": "ec44011e",
   "metadata": {},
   "outputs": [
    {
     "name": "stdout",
     "output_type": "stream",
     "text": [
      "Requirement already satisfied: xgboost in c:\\users\\thoma\\anaconda3\\lib\\site-packages (2.0.3)\n",
      "Requirement already satisfied: numpy in c:\\users\\thoma\\anaconda3\\lib\\site-packages (from xgboost) (1.24.3)\n",
      "Requirement already satisfied: scipy in c:\\users\\thoma\\anaconda3\\lib\\site-packages (from xgboost) (1.10.1)\n",
      "0    1\n",
      "1    1\n",
      "2    1\n",
      "3    5\n",
      "4    6\n",
      "Name: obese_category, dtype: int32\n"
     ]
    }
   ],
   "source": [
    "le = LabelEncoder()\n",
    "\n",
    "!pip install xgboost\n",
    "\n",
    "import xgboost as xgb\n",
    "\n",
    "# Define and train XGBoost classifier\n",
    "xgb_clf = xgb.XGBClassifier()\n",
    "xgb_clf.fit(X_train, y_train)\n",
    "\n",
    "# Predictions\n",
    "y_pred = xgb_clf.predict(X_test)\n",
    "\n",
    "# Define and train XGBoost classifier\n",
    "xgb_clf = xgb.XGBClassifier()\n",
    "xgb_clf.fit(X_train, y_train_encoded)\n",
    "\n",
    "# Predictions\n",
    "y_pred_encoded = xgb_clf.predict(X_test)\n",
    "\n",
    "\n",
    "    \n",
    "#print(X_train.head())\n",
    "print(y.head())\n",
    " "
   ]
  },
  {
   "cell_type": "code",
   "execution_count": 55,
   "id": "cc8236d6",
   "metadata": {},
   "outputs": [],
   "source": [
    "def voting(lists):\n",
    "    result = []\n",
    "    num_lists = len(lists)\n",
    "    num_elements = len(lists[0])  # Assuming all lists have the same length\n",
    "\n",
    "    for i in range(num_elements):\n",
    "        counts = {}  # Dictionary to store the count of each element\n",
    "        for j in range(num_lists):\n",
    "            element = lists[j][i]\n",
    "            if element in counts:\n",
    "                counts[element] += 1\n",
    "            else:\n",
    "                counts[element] = 1\n",
    "\n",
    "        # Find the element with the maximum count\n",
    "        max_count = max(counts.values())\n",
    "        max_elements = [key for key, value in counts.items() if value == max_count]\n",
    "\n",
    "        # If there's a tie, choose the smallest element\n",
    "        max_elements.sort()\n",
    "        result.append(max_elements[0])\n",
    "\n",
    "    return result\n",
    "\n"
   ]
  },
  {
   "cell_type": "code",
   "execution_count": 57,
   "id": "68bb427d",
   "metadata": {},
   "outputs": [
    {
     "name": "stdout",
     "output_type": "stream",
     "text": [
      "Collecting lightgbm\n",
      "  Obtaining dependency information for lightgbm from https://files.pythonhosted.org/packages/e1/4c/4685ccfae9806f561de716e32549190c1f533dde5bcadaf83bdf23972cf0/lightgbm-4.3.0-py3-none-win_amd64.whl.metadata\n",
      "  Downloading lightgbm-4.3.0-py3-none-win_amd64.whl.metadata (19 kB)\n",
      "Requirement already satisfied: numpy in c:\\users\\thoma\\anaconda3\\lib\\site-packages (from lightgbm) (1.24.3)\n",
      "Requirement already satisfied: scipy in c:\\users\\thoma\\anaconda3\\lib\\site-packages (from lightgbm) (1.10.1)\n",
      "Downloading lightgbm-4.3.0-py3-none-win_amd64.whl (1.3 MB)\n",
      "   ---------------------------------------- 0.0/1.3 MB ? eta -:--:--\n",
      "   ------- -------------------------------- 0.3/1.3 MB 5.2 MB/s eta 0:00:01\n",
      "   ------------- -------------------------- 0.5/1.3 MB 5.6 MB/s eta 0:00:01\n",
      "   ------------------ --------------------- 0.6/1.3 MB 4.8 MB/s eta 0:00:01\n",
      "   ------------------------- -------------- 0.8/1.3 MB 4.9 MB/s eta 0:00:01\n",
      "   --------------------------------- ------ 1.1/1.3 MB 5.4 MB/s eta 0:00:01\n",
      "   ---------------------------------------  1.3/1.3 MB 5.2 MB/s eta 0:00:01\n",
      "   ---------------------------------------- 1.3/1.3 MB 5.0 MB/s eta 0:00:00\n",
      "Installing collected packages: lightgbm\n",
      "Successfully installed lightgbm-4.3.0\n",
      "[LightGBM] [Info] Auto-choosing row-wise multi-threading, the overhead of testing was 0.000717 seconds.\n",
      "You can set `force_row_wise=true` to remove the overhead.\n",
      "And if memory is not enough, you can set `force_col_wise=true`.\n",
      "[LightGBM] [Info] Total Bins 224\n",
      "[LightGBM] [Info] Number of data points in the train set: 1688, number of used features: 16\n",
      "[LightGBM] [Info] Start training from score -2.056021\n",
      "[LightGBM] [Info] Start training from score -2.015199\n",
      "[LightGBM] [Info] Start training from score -1.821828\n",
      "[LightGBM] [Info] Start training from score -1.954836\n",
      "[LightGBM] [Info] Start training from score -1.866779\n",
      "[LightGBM] [Info] Start training from score -1.975979\n",
      "[LightGBM] [Info] Start training from score -1.950661\n",
      "[LightGBM] [Warning] No further splits with positive gain, best gain: -inf\n",
      "[LightGBM] [Warning] No further splits with positive gain, best gain: -inf\n",
      "[LightGBM] [Warning] No further splits with positive gain, best gain: -inf\n",
      "[LightGBM] [Warning] No further splits with positive gain, best gain: -inf\n",
      "[LightGBM] [Warning] No further splits with positive gain, best gain: -inf\n",
      "[LightGBM] [Warning] No further splits with positive gain, best gain: -inf\n",
      "[LightGBM] [Warning] No further splits with positive gain, best gain: -inf\n",
      "[LightGBM] [Warning] No further splits with positive gain, best gain: -inf\n",
      "[LightGBM] [Warning] No further splits with positive gain, best gain: -inf\n",
      "[LightGBM] [Warning] No further splits with positive gain, best gain: -inf\n",
      "[LightGBM] [Warning] No further splits with positive gain, best gain: -inf\n",
      "[LightGBM] [Warning] No further splits with positive gain, best gain: -inf\n",
      "[LightGBM] [Warning] No further splits with positive gain, best gain: -inf\n",
      "[LightGBM] [Warning] No further splits with positive gain, best gain: -inf\n",
      "[LightGBM] [Warning] No further splits with positive gain, best gain: -inf\n",
      "[LightGBM] [Warning] No further splits with positive gain, best gain: -inf\n",
      "[LightGBM] [Warning] No further splits with positive gain, best gain: -inf\n",
      "[LightGBM] [Warning] No further splits with positive gain, best gain: -inf\n",
      "[LightGBM] [Warning] No further splits with positive gain, best gain: -inf\n",
      "[LightGBM] [Warning] No further splits with positive gain, best gain: -inf\n",
      "[LightGBM] [Warning] No further splits with positive gain, best gain: -inf\n",
      "[LightGBM] [Warning] No further splits with positive gain, best gain: -inf\n",
      "[LightGBM] [Warning] No further splits with positive gain, best gain: -inf\n",
      "[LightGBM] [Warning] No further splits with positive gain, best gain: -inf\n",
      "[LightGBM] [Warning] No further splits with positive gain, best gain: -inf\n",
      "[LightGBM] [Warning] No further splits with positive gain, best gain: -inf\n",
      "[LightGBM] [Warning] No further splits with positive gain, best gain: -inf\n",
      "[LightGBM] [Warning] No further splits with positive gain, best gain: -inf\n",
      "[LightGBM] [Warning] No further splits with positive gain, best gain: -inf\n",
      "[LightGBM] [Warning] No further splits with positive gain, best gain: -inf\n",
      "[LightGBM] [Warning] No further splits with positive gain, best gain: -inf\n",
      "[LightGBM] [Warning] No further splits with positive gain, best gain: -inf\n",
      "[LightGBM] [Warning] No further splits with positive gain, best gain: -inf\n",
      "[LightGBM] [Warning] No further splits with positive gain, best gain: -inf\n",
      "[LightGBM] [Warning] No further splits with positive gain, best gain: -inf\n",
      "[LightGBM] [Warning] No further splits with positive gain, best gain: -inf\n",
      "[LightGBM] [Warning] No further splits with positive gain, best gain: -inf\n",
      "[LightGBM] [Warning] No further splits with positive gain, best gain: -inf\n",
      "[LightGBM] [Warning] No further splits with positive gain, best gain: -inf\n",
      "[LightGBM] [Warning] No further splits with positive gain, best gain: -inf\n",
      "[LightGBM] [Warning] No further splits with positive gain, best gain: -inf\n",
      "[LightGBM] [Warning] No further splits with positive gain, best gain: -inf\n",
      "[LightGBM] [Warning] No further splits with positive gain, best gain: -inf\n",
      "[LightGBM] [Warning] No further splits with positive gain, best gain: -inf\n",
      "[LightGBM] [Warning] No further splits with positive gain, best gain: -inf\n",
      "[LightGBM] [Warning] No further splits with positive gain, best gain: -inf\n",
      "[LightGBM] [Warning] No further splits with positive gain, best gain: -inf\n",
      "[LightGBM] [Warning] No further splits with positive gain, best gain: -inf\n",
      "[LightGBM] [Warning] No further splits with positive gain, best gain: -inf\n",
      "[LightGBM] [Warning] No further splits with positive gain, best gain: -inf\n",
      "[LightGBM] [Warning] No further splits with positive gain, best gain: -inf\n",
      "[LightGBM] [Warning] No further splits with positive gain, best gain: -inf\n",
      "[LightGBM] [Warning] No further splits with positive gain, best gain: -inf\n",
      "[LightGBM] [Warning] No further splits with positive gain, best gain: -inf\n",
      "[LightGBM] [Warning] No further splits with positive gain, best gain: -inf\n",
      "[LightGBM] [Warning] No further splits with positive gain, best gain: -inf\n",
      "[LightGBM] [Warning] No further splits with positive gain, best gain: -inf\n",
      "[LightGBM] [Warning] No further splits with positive gain, best gain: -inf\n",
      "[LightGBM] [Warning] No further splits with positive gain, best gain: -inf\n",
      "[LightGBM] [Warning] No further splits with positive gain, best gain: -inf\n",
      "[LightGBM] [Warning] No further splits with positive gain, best gain: -inf\n",
      "[LightGBM] [Warning] No further splits with positive gain, best gain: -inf\n",
      "[LightGBM] [Warning] No further splits with positive gain, best gain: -inf\n",
      "[LightGBM] [Warning] No further splits with positive gain, best gain: -inf\n",
      "[LightGBM] [Warning] No further splits with positive gain, best gain: -inf\n",
      "[LightGBM] [Warning] No further splits with positive gain, best gain: -inf\n",
      "[LightGBM] [Warning] No further splits with positive gain, best gain: -inf\n",
      "[LightGBM] [Warning] No further splits with positive gain, best gain: -inf\n",
      "[LightGBM] [Warning] No further splits with positive gain, best gain: -inf\n",
      "[LightGBM] [Warning] No further splits with positive gain, best gain: -inf\n",
      "[LightGBM] [Warning] No further splits with positive gain, best gain: -inf\n",
      "[LightGBM] [Warning] No further splits with positive gain, best gain: -inf\n",
      "[LightGBM] [Warning] No further splits with positive gain, best gain: -inf\n",
      "[LightGBM] [Warning] No further splits with positive gain, best gain: -inf\n",
      "[LightGBM] [Warning] No further splits with positive gain, best gain: -inf\n",
      "[LightGBM] [Warning] No further splits with positive gain, best gain: -inf\n",
      "[LightGBM] [Warning] No further splits with positive gain, best gain: -inf\n",
      "[LightGBM] [Warning] No further splits with positive gain, best gain: -inf\n",
      "[LightGBM] [Warning] No further splits with positive gain, best gain: -inf\n",
      "[LightGBM] [Warning] No further splits with positive gain, best gain: -inf\n",
      "[LightGBM] [Warning] No further splits with positive gain, best gain: -inf\n",
      "[LightGBM] [Warning] No further splits with positive gain, best gain: -inf\n",
      "[LightGBM] [Warning] No further splits with positive gain, best gain: -inf\n",
      "[LightGBM] [Warning] No further splits with positive gain, best gain: -inf\n",
      "[LightGBM] [Warning] No further splits with positive gain, best gain: -inf\n",
      "[LightGBM] [Warning] No further splits with positive gain, best gain: -inf\n",
      "[LightGBM] [Warning] No further splits with positive gain, best gain: -inf\n",
      "[LightGBM] [Warning] No further splits with positive gain, best gain: -inf\n",
      "[LightGBM] [Warning] No further splits with positive gain, best gain: -inf\n",
      "[LightGBM] [Warning] No further splits with positive gain, best gain: -inf\n",
      "[LightGBM] [Warning] No further splits with positive gain, best gain: -inf\n",
      "[LightGBM] [Warning] No further splits with positive gain, best gain: -inf\n",
      "[LightGBM] [Warning] No further splits with positive gain, best gain: -inf\n",
      "[LightGBM] [Warning] No further splits with positive gain, best gain: -inf\n",
      "[LightGBM] [Warning] No further splits with positive gain, best gain: -inf\n",
      "[LightGBM] [Warning] No further splits with positive gain, best gain: -inf\n",
      "[LightGBM] [Warning] No further splits with positive gain, best gain: -inf\n",
      "[LightGBM] [Warning] No further splits with positive gain, best gain: -inf\n",
      "[LightGBM] [Warning] No further splits with positive gain, best gain: -inf\n",
      "[LightGBM] [Warning] No further splits with positive gain, best gain: -inf\n",
      "[LightGBM] [Warning] No further splits with positive gain, best gain: -inf\n",
      "[LightGBM] [Warning] No further splits with positive gain, best gain: -inf\n",
      "[LightGBM] [Warning] No further splits with positive gain, best gain: -inf\n",
      "[LightGBM] [Warning] No further splits with positive gain, best gain: -inf\n",
      "[LightGBM] [Warning] No further splits with positive gain, best gain: -inf\n",
      "[LightGBM] [Warning] No further splits with positive gain, best gain: -inf\n",
      "[LightGBM] [Warning] No further splits with positive gain, best gain: -inf\n",
      "[LightGBM] [Warning] No further splits with positive gain, best gain: -inf\n",
      "[LightGBM] [Warning] No further splits with positive gain, best gain: -inf\n",
      "[LightGBM] [Warning] No further splits with positive gain, best gain: -inf\n",
      "[LightGBM] [Warning] No further splits with positive gain, best gain: -inf\n",
      "[LightGBM] [Warning] No further splits with positive gain, best gain: -inf\n",
      "[LightGBM] [Warning] No further splits with positive gain, best gain: -inf\n",
      "[LightGBM] [Warning] No further splits with positive gain, best gain: -inf\n",
      "[LightGBM] [Warning] No further splits with positive gain, best gain: -inf\n",
      "[LightGBM] [Warning] No further splits with positive gain, best gain: -inf\n",
      "[LightGBM] [Warning] No further splits with positive gain, best gain: -inf\n",
      "[LightGBM] [Warning] No further splits with positive gain, best gain: -inf\n",
      "[LightGBM] [Warning] No further splits with positive gain, best gain: -inf\n",
      "[LightGBM] [Warning] No further splits with positive gain, best gain: -inf\n",
      "[LightGBM] [Warning] No further splits with positive gain, best gain: -inf\n",
      "[LightGBM] [Warning] No further splits with positive gain, best gain: -inf\n",
      "[LightGBM] [Warning] No further splits with positive gain, best gain: -inf\n",
      "[LightGBM] [Warning] No further splits with positive gain, best gain: -inf\n",
      "[LightGBM] [Warning] No further splits with positive gain, best gain: -inf\n",
      "[LightGBM] [Warning] No further splits with positive gain, best gain: -inf\n",
      "[LightGBM] [Warning] No further splits with positive gain, best gain: -inf\n",
      "[LightGBM] [Warning] No further splits with positive gain, best gain: -inf\n",
      "[LightGBM] [Warning] No further splits with positive gain, best gain: -inf\n",
      "[LightGBM] [Warning] No further splits with positive gain, best gain: -inf\n",
      "[LightGBM] [Warning] No further splits with positive gain, best gain: -inf\n",
      "[LightGBM] [Warning] No further splits with positive gain, best gain: -inf\n",
      "[LightGBM] [Warning] No further splits with positive gain, best gain: -inf\n"
     ]
    },
    {
     "data": {
      "text/html": [
       "<style>#sk-container-id-1 {color: black;}#sk-container-id-1 pre{padding: 0;}#sk-container-id-1 div.sk-toggleable {background-color: white;}#sk-container-id-1 label.sk-toggleable__label {cursor: pointer;display: block;width: 100%;margin-bottom: 0;padding: 0.3em;box-sizing: border-box;text-align: center;}#sk-container-id-1 label.sk-toggleable__label-arrow:before {content: \"▸\";float: left;margin-right: 0.25em;color: #696969;}#sk-container-id-1 label.sk-toggleable__label-arrow:hover:before {color: black;}#sk-container-id-1 div.sk-estimator:hover label.sk-toggleable__label-arrow:before {color: black;}#sk-container-id-1 div.sk-toggleable__content {max-height: 0;max-width: 0;overflow: hidden;text-align: left;background-color: #f0f8ff;}#sk-container-id-1 div.sk-toggleable__content pre {margin: 0.2em;color: black;border-radius: 0.25em;background-color: #f0f8ff;}#sk-container-id-1 input.sk-toggleable__control:checked~div.sk-toggleable__content {max-height: 200px;max-width: 100%;overflow: auto;}#sk-container-id-1 input.sk-toggleable__control:checked~label.sk-toggleable__label-arrow:before {content: \"▾\";}#sk-container-id-1 div.sk-estimator input.sk-toggleable__control:checked~label.sk-toggleable__label {background-color: #d4ebff;}#sk-container-id-1 div.sk-label input.sk-toggleable__control:checked~label.sk-toggleable__label {background-color: #d4ebff;}#sk-container-id-1 input.sk-hidden--visually {border: 0;clip: rect(1px 1px 1px 1px);clip: rect(1px, 1px, 1px, 1px);height: 1px;margin: -1px;overflow: hidden;padding: 0;position: absolute;width: 1px;}#sk-container-id-1 div.sk-estimator {font-family: monospace;background-color: #f0f8ff;border: 1px dotted black;border-radius: 0.25em;box-sizing: border-box;margin-bottom: 0.5em;}#sk-container-id-1 div.sk-estimator:hover {background-color: #d4ebff;}#sk-container-id-1 div.sk-parallel-item::after {content: \"\";width: 100%;border-bottom: 1px solid gray;flex-grow: 1;}#sk-container-id-1 div.sk-label:hover label.sk-toggleable__label {background-color: #d4ebff;}#sk-container-id-1 div.sk-serial::before {content: \"\";position: absolute;border-left: 1px solid gray;box-sizing: border-box;top: 0;bottom: 0;left: 50%;z-index: 0;}#sk-container-id-1 div.sk-serial {display: flex;flex-direction: column;align-items: center;background-color: white;padding-right: 0.2em;padding-left: 0.2em;position: relative;}#sk-container-id-1 div.sk-item {position: relative;z-index: 1;}#sk-container-id-1 div.sk-parallel {display: flex;align-items: stretch;justify-content: center;background-color: white;position: relative;}#sk-container-id-1 div.sk-item::before, #sk-container-id-1 div.sk-parallel-item::before {content: \"\";position: absolute;border-left: 1px solid gray;box-sizing: border-box;top: 0;bottom: 0;left: 50%;z-index: -1;}#sk-container-id-1 div.sk-parallel-item {display: flex;flex-direction: column;z-index: 1;position: relative;background-color: white;}#sk-container-id-1 div.sk-parallel-item:first-child::after {align-self: flex-end;width: 50%;}#sk-container-id-1 div.sk-parallel-item:last-child::after {align-self: flex-start;width: 50%;}#sk-container-id-1 div.sk-parallel-item:only-child::after {width: 0;}#sk-container-id-1 div.sk-dashed-wrapped {border: 1px dashed gray;margin: 0 0.4em 0.5em 0.4em;box-sizing: border-box;padding-bottom: 0.4em;background-color: white;}#sk-container-id-1 div.sk-label label {font-family: monospace;font-weight: bold;display: inline-block;line-height: 1.2em;}#sk-container-id-1 div.sk-label-container {text-align: center;}#sk-container-id-1 div.sk-container {/* jupyter's `normalize.less` sets `[hidden] { display: none; }` but bootstrap.min.css set `[hidden] { display: none !important; }` so we also need the `!important` here to be able to override the default hidden behavior on the sphinx rendered scikit-learn.org. See: https://github.com/scikit-learn/scikit-learn/issues/21755 */display: inline-block !important;position: relative;}#sk-container-id-1 div.sk-text-repr-fallback {display: none;}</style><div id=\"sk-container-id-1\" class=\"sk-top-container\"><div class=\"sk-text-repr-fallback\"><pre>LGBMClassifier()</pre><b>In a Jupyter environment, please rerun this cell to show the HTML representation or trust the notebook. <br />On GitHub, the HTML representation is unable to render, please try loading this page with nbviewer.org.</b></div><div class=\"sk-container\" hidden><div class=\"sk-item\"><div class=\"sk-estimator sk-toggleable\"><input class=\"sk-toggleable__control sk-hidden--visually\" id=\"sk-estimator-id-1\" type=\"checkbox\" checked><label for=\"sk-estimator-id-1\" class=\"sk-toggleable__label sk-toggleable__label-arrow\">LGBMClassifier</label><div class=\"sk-toggleable__content\"><pre>LGBMClassifier()</pre></div></div></div></div></div>"
      ],
      "text/plain": [
       "LGBMClassifier()"
      ]
     },
     "execution_count": 57,
     "metadata": {},
     "output_type": "execute_result"
    }
   ],
   "source": [
    "!pip install lightgbm\n",
    "import xgboost as xgb\n",
    "from catboost import CatBoostClassifier\n",
    "import lightgbm as lgbm\n",
    "from sklearn.base import BaseEstimator, ClassifierMixin\n",
    "\n",
    "\n",
    "# Define the three base estimators\n",
    "xgb_clf = xgb.XGBClassifier()\n",
    "catboost_clf = CatBoostClassifier(verbose = 0)\n",
    "lgbm_clf = lgbm.LGBMClassifier()\n",
    "\n",
    "# Define and train all classifiers\n",
    "xgb_clf.fit(X_train, y_train)\n",
    "# Define and train XGBoost classifier\n",
    "catboost_clf.fit(X_train, y_train)\n",
    "# Define and train XGBoost classifier\n",
    "lgbm_clf.fit(X_train, y_train)"
   ]
  },
  {
   "cell_type": "code",
   "execution_count": 35,
   "id": "26f785c7",
   "metadata": {
    "collapsed": true
   },
   "outputs": [
    {
     "name": "stdout",
     "output_type": "stream",
     "text": [
      "Requirement already satisfied: catboost in c:\\users\\thoma\\anaconda3\\lib\\site-packages (1.2.3)\n",
      "Requirement already satisfied: graphviz in c:\\users\\thoma\\anaconda3\\lib\\site-packages (from catboost) (0.20.1)\n",
      "Requirement already satisfied: matplotlib in c:\\users\\thoma\\anaconda3\\lib\\site-packages (from catboost) (3.7.1)\n",
      "Requirement already satisfied: numpy>=1.16.0 in c:\\users\\thoma\\anaconda3\\lib\\site-packages (from catboost) (1.24.3)\n",
      "Requirement already satisfied: pandas>=0.24 in c:\\users\\thoma\\anaconda3\\lib\\site-packages (from catboost) (1.5.3)\n",
      "Requirement already satisfied: scipy in c:\\users\\thoma\\anaconda3\\lib\\site-packages (from catboost) (1.10.1)\n",
      "Requirement already satisfied: plotly in c:\\users\\thoma\\anaconda3\\lib\\site-packages (from catboost) (5.9.0)\n",
      "Requirement already satisfied: six in c:\\users\\thoma\\anaconda3\\lib\\site-packages (from catboost) (1.16.0)\n",
      "Requirement already satisfied: python-dateutil>=2.8.1 in c:\\users\\thoma\\anaconda3\\lib\\site-packages (from pandas>=0.24->catboost) (2.8.2)\n",
      "Requirement already satisfied: pytz>=2020.1 in c:\\users\\thoma\\anaconda3\\lib\\site-packages (from pandas>=0.24->catboost) (2022.7)\n",
      "Requirement already satisfied: contourpy>=1.0.1 in c:\\users\\thoma\\anaconda3\\lib\\site-packages (from matplotlib->catboost) (1.0.5)\n",
      "Requirement already satisfied: cycler>=0.10 in c:\\users\\thoma\\anaconda3\\lib\\site-packages (from matplotlib->catboost) (0.11.0)\n",
      "Requirement already satisfied: fonttools>=4.22.0 in c:\\users\\thoma\\anaconda3\\lib\\site-packages (from matplotlib->catboost) (4.25.0)\n",
      "Requirement already satisfied: kiwisolver>=1.0.1 in c:\\users\\thoma\\anaconda3\\lib\\site-packages (from matplotlib->catboost) (1.4.4)\n",
      "Requirement already satisfied: packaging>=20.0 in c:\\users\\thoma\\anaconda3\\lib\\site-packages (from matplotlib->catboost) (23.0)\n",
      "Requirement already satisfied: pillow>=6.2.0 in c:\\users\\thoma\\anaconda3\\lib\\site-packages (from matplotlib->catboost) (9.4.0)\n",
      "Requirement already satisfied: pyparsing>=2.3.1 in c:\\users\\thoma\\anaconda3\\lib\\site-packages (from matplotlib->catboost) (3.0.9)\n",
      "Requirement already satisfied: tenacity>=6.2.0 in c:\\users\\thoma\\anaconda3\\lib\\site-packages (from plotly->catboost) (8.2.2)\n"
     ]
    },
    {
     "ename": "ModuleNotFoundError",
     "evalue": "No module named 'lightgbm'",
     "output_type": "error",
     "traceback": [
      "\u001b[1;31m---------------------------------------------------------------------------\u001b[0m",
      "\u001b[1;31mModuleNotFoundError\u001b[0m                       Traceback (most recent call last)",
      "Cell \u001b[1;32mIn[35], line 4\u001b[0m\n\u001b[0;32m      2\u001b[0m get_ipython()\u001b[38;5;241m.\u001b[39msystem(\u001b[38;5;124m'\u001b[39m\u001b[38;5;124mpip install catboost\u001b[39m\u001b[38;5;124m'\u001b[39m)\n\u001b[0;32m      3\u001b[0m \u001b[38;5;28;01mfrom\u001b[39;00m \u001b[38;5;21;01mcatboost\u001b[39;00m \u001b[38;5;28;01mimport\u001b[39;00m CatBoostClassifier\n\u001b[1;32m----> 4\u001b[0m \u001b[38;5;28;01mimport\u001b[39;00m \u001b[38;5;21;01mlightgbm\u001b[39;00m \u001b[38;5;28;01mas\u001b[39;00m \u001b[38;5;21;01mlgbm\u001b[39;00m\n\u001b[0;32m      5\u001b[0m \u001b[38;5;28;01mfrom\u001b[39;00m \u001b[38;5;21;01msklearn\u001b[39;00m\u001b[38;5;21;01m.\u001b[39;00m\u001b[38;5;21;01mbase\u001b[39;00m \u001b[38;5;28;01mimport\u001b[39;00m BaseEstimator, ClassifierMixin\n\u001b[0;32m      8\u001b[0m \u001b[38;5;66;03m# Define the three base estimators\u001b[39;00m\n",
      "\u001b[1;31mModuleNotFoundError\u001b[0m: No module named 'lightgbm'"
     ]
    }
   ],
   "source": []
  },
  {
   "cell_type": "code",
   "execution_count": 59,
   "id": "99cb4bdc",
   "metadata": {},
   "outputs": [],
   "source": [
    "y_pred = voting([xgb_clf.predict(X_test), catboost_clf.predict(X_test).reshape(423), lgbm_clf.predict(X_test)])"
   ]
  },
  {
   "cell_type": "code",
   "execution_count": 60,
   "id": "b1bd08c7",
   "metadata": {},
   "outputs": [
    {
     "name": "stdout",
     "output_type": "stream",
     "text": [
      "Accuracy: 0.9598108747044918\n"
     ]
    }
   ],
   "source": [
    "from sklearn.metrics import accuracy_score\n",
    "accuracy = accuracy_score(y_test, y_pred)\n",
    "print(\"Accuracy:\", accuracy)"
   ]
  },
  {
   "cell_type": "code",
   "execution_count": 74,
   "id": "9a6eebbe",
   "metadata": {},
   "outputs": [
    {
     "name": "stdout",
     "output_type": "stream",
     "text": [
      "[0, 4, 0, 0, 1, 0, 3, 5, 2, 0, 2, 4, 3, 3, 4, 6, 4, 3, 2, 6, 2, 5, 4, 2, 1, 6, 6, 4, 4, 0, 4, 5, 6, 1, 0, 4, 2, 1, 1, 1, 1, 3, 1, 1, 5, 0, 3, 1, 2, 3, 1, 1, 1, 5, 0, 6, 3, 3, 5, 3, 1, 4, 6, 0, 3, 2, 1, 4, 0, 0, 6, 6, 0, 1, 5, 3, 3, 5, 4, 3, 1, 2, 3, 3, 2, 2, 1, 6, 1, 6, 6, 3, 0, 5, 2, 0, 5, 2, 5, 3, 2, 2, 4, 2, 6, 2, 1, 4, 4, 3, 2, 1, 2, 1, 0, 2, 2, 3, 6, 1, 4, 3, 2, 6, 1, 3, 2, 2, 4, 3, 4, 3, 1, 2, 6, 4, 0, 4, 1, 2, 5, 6, 0, 0, 0, 3, 2, 4, 0, 2, 0, 0, 1, 3, 2, 5, 6, 5, 0, 0, 5, 1, 2, 0, 3, 0, 2, 5, 5, 6, 1, 6, 3, 4, 2, 6, 2, 6, 2, 5, 0, 3, 0, 5, 3, 2, 5, 4, 3, 3, 0, 4, 0, 1, 4, 1, 3, 2, 4, 0, 3, 3, 4, 4, 1, 4, 5, 5, 2, 4, 5, 2, 0, 2, 3, 0, 5, 3, 3, 2, 4, 6, 3, 5, 3, 6, 0, 4, 1, 5, 5, 4, 1, 5, 1, 2, 2, 2, 2, 0, 6, 6, 5, 2, 2, 2, 1, 2, 2, 0, 5, 2, 0, 1, 1, 6, 2, 3, 2, 2, 4, 4, 5, 2, 2, 4, 4, 1, 1, 4, 3, 4, 6, 2, 3, 2, 3, 4, 3, 0, 0, 5, 6, 4, 4, 5, 2, 6, 0, 3, 2, 5, 0, 2, 0, 5, 3, 3, 6, 6, 1, 5, 0, 0, 5, 1, 6, 5, 6, 4, 5, 3, 1, 4, 5, 6, 2, 4, 6, 1, 0, 1, 4, 0, 1, 4, 2, 2, 4, 0, 1, 1, 3, 4, 2, 5, 2, 0, 0, 0, 2, 4, 6, 2, 4, 3, 5, 2, 5, 6, 6, 4, 6, 1, 0, 6, 6, 6, 5, 6, 6, 3, 2, 2, 3, 4, 2, 6, 5, 4, 0, 2, 1, 3, 2, 5, 0, 1, 2, 2, 6, 6, 5, 0, 4, 5, 4, 4, 1, 2, 3, 5, 4, 6, 3, 5, 0, 4, 5, 4, 1, 0, 1, 5, 2, 0, 0, 4, 1, 4, 6, 5, 5, 5, 4, 0, 5, 2, 5, 3, 1, 3, 6]\n"
     ]
    }
   ],
   "source": [
    "y_hat = voting([xgb_clf.predict(X_test), catboost_clf.predict(X_test).reshape(423), lgbm_clf.predict(X_test)])\n",
    "print(y_hat)"
   ]
  }
 ],
 "metadata": {
  "kernelspec": {
   "display_name": "Python 3 (ipykernel)",
   "language": "python",
   "name": "python3"
  },
  "language_info": {
   "codemirror_mode": {
    "name": "ipython",
    "version": 3
   },
   "file_extension": ".py",
   "mimetype": "text/x-python",
   "name": "python",
   "nbconvert_exporter": "python",
   "pygments_lexer": "ipython3",
   "version": "3.11.4"
  }
 },
 "nbformat": 4,
 "nbformat_minor": 5
}
