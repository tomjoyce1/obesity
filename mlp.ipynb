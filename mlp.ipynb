{
 "cells": [
  {
   "cell_type": "code",
   "execution_count": 15,
   "id": "b08b81ac",
   "metadata": {},
   "outputs": [],
   "source": [
    "import pandas as pd\n",
    "from sklearn.model_selection import GridSearchCV\n",
    "from sklearn.neural_network import MLPClassifier\n",
    "import warnings\n",
    "\n",
    "warnings.filterwarnings('ignore', category=FutureWarning)\n",
    "warnings.filterwarnings('ignore', category=DeprecationWarning)\n",
    "\n",
    "tr_features = pd.read_csv('train_features.csv')\n",
    "tr_labels = pd.read_csv('train_labels.csv', header=None)"
   ]
  },
  {
   "cell_type": "code",
   "execution_count": 16,
   "id": "a1be2e81",
   "metadata": {},
   "outputs": [
    {
     "data": {
      "text/plain": [
       "['activation',\n",
       " 'alpha',\n",
       " 'batch_size',\n",
       " 'beta_1',\n",
       " 'beta_2',\n",
       " 'early_stopping',\n",
       " 'epsilon',\n",
       " 'hidden_layer_sizes',\n",
       " 'learning_rate',\n",
       " 'learning_rate_init',\n",
       " 'max_fun',\n",
       " 'max_iter',\n",
       " 'momentum',\n",
       " 'n_iter_no_change',\n",
       " 'nesterovs_momentum',\n",
       " 'power_t',\n",
       " 'random_state',\n",
       " 'shuffle',\n",
       " 'solver',\n",
       " 'tol',\n",
       " 'validation_fraction',\n",
       " 'verbose',\n",
       " 'warm_start']"
      ]
     },
     "execution_count": 16,
     "metadata": {},
     "output_type": "execute_result"
    }
   ],
   "source": [
    "mlp = MLPClassifier()\n",
    "mlp._get_param_names()"
   ]
  },
  {
   "cell_type": "code",
   "execution_count": 17,
   "id": "80ea46f3",
   "metadata": {},
   "outputs": [],
   "source": [
    "def print_results(results):\n",
    "    print('BEST PARAMS: {}\\n'.format(results.best_params_))\n",
    "    \n",
    "    mean = results.cv_results_['mean_test_score']\n",
    "    stds = results.cv_results_['std_test_score']\n",
    "    for mean, std, params in zip(mean,stds,results.cv_results_['params']):\n",
    "        print('{}(+/-{}) for {}'.format(round(mean,3), round(std*2,3),params))\n",
    "    #mean test score is over every model we tried, what average accuracy on validation set"
   ]
  },
  {
   "cell_type": "code",
   "execution_count": 18,
   "id": "5b482050",
   "metadata": {},
   "outputs": [
    {
     "name": "stdout",
     "output_type": "stream",
     "text": [
      "BEST PARAMS: {'activation': 'tanh', 'hidden_layer_sizes': (50, 10), 'learning_rate': 'constant', 'learning_rate_init': 0.01, 'max_iter': 1000, 'solver': 'sgd'}\n",
      "\n",
      "0.648(+/-0.033) for {'activation': 'relu', 'hidden_layer_sizes': (10,), 'learning_rate': 'constant', 'learning_rate_init': 0.01, 'max_iter': 1000, 'solver': 'sgd'}\n",
      "0.624(+/-0.007) for {'activation': 'relu', 'hidden_layer_sizes': (10,), 'learning_rate': 'constant', 'learning_rate_init': 0.1, 'max_iter': 1000, 'solver': 'sgd'}\n",
      "0.624(+/-0.007) for {'activation': 'relu', 'hidden_layer_sizes': (10,), 'learning_rate': 'constant', 'learning_rate_init': 0.2, 'max_iter': 1000, 'solver': 'sgd'}\n",
      "0.624(+/-0.007) for {'activation': 'relu', 'hidden_layer_sizes': (10,), 'learning_rate': 'constant', 'learning_rate_init': 0.3, 'max_iter': 1000, 'solver': 'sgd'}\n",
      "0.641(+/-0.076) for {'activation': 'relu', 'hidden_layer_sizes': (50, 10), 'learning_rate': 'constant', 'learning_rate_init': 0.01, 'max_iter': 1000, 'solver': 'sgd'}\n",
      "0.624(+/-0.007) for {'activation': 'relu', 'hidden_layer_sizes': (50, 10), 'learning_rate': 'constant', 'learning_rate_init': 0.1, 'max_iter': 1000, 'solver': 'sgd'}\n",
      "0.624(+/-0.007) for {'activation': 'relu', 'hidden_layer_sizes': (50, 10), 'learning_rate': 'constant', 'learning_rate_init': 0.2, 'max_iter': 1000, 'solver': 'sgd'}\n",
      "0.624(+/-0.007) for {'activation': 'relu', 'hidden_layer_sizes': (50, 10), 'learning_rate': 'constant', 'learning_rate_init': 0.3, 'max_iter': 1000, 'solver': 'sgd'}\n",
      "0.708(+/-0.105) for {'activation': 'relu', 'hidden_layer_sizes': (100,), 'learning_rate': 'constant', 'learning_rate_init': 0.01, 'max_iter': 1000, 'solver': 'sgd'}\n",
      "0.624(+/-0.007) for {'activation': 'relu', 'hidden_layer_sizes': (100,), 'learning_rate': 'constant', 'learning_rate_init': 0.1, 'max_iter': 1000, 'solver': 'sgd'}\n",
      "0.607(+/-0.074) for {'activation': 'relu', 'hidden_layer_sizes': (100,), 'learning_rate': 'constant', 'learning_rate_init': 0.2, 'max_iter': 1000, 'solver': 'sgd'}\n",
      "0.624(+/-0.007) for {'activation': 'relu', 'hidden_layer_sizes': (100,), 'learning_rate': 'constant', 'learning_rate_init': 0.3, 'max_iter': 1000, 'solver': 'sgd'}\n",
      "0.661(+/-0.086) for {'activation': 'tanh', 'hidden_layer_sizes': (10,), 'learning_rate': 'constant', 'learning_rate_init': 0.01, 'max_iter': 1000, 'solver': 'sgd'}\n",
      "0.674(+/-0.087) for {'activation': 'tanh', 'hidden_layer_sizes': (10,), 'learning_rate': 'constant', 'learning_rate_init': 0.1, 'max_iter': 1000, 'solver': 'sgd'}\n",
      "0.661(+/-0.111) for {'activation': 'tanh', 'hidden_layer_sizes': (10,), 'learning_rate': 'constant', 'learning_rate_init': 0.2, 'max_iter': 1000, 'solver': 'sgd'}\n",
      "0.631(+/-0.023) for {'activation': 'tanh', 'hidden_layer_sizes': (10,), 'learning_rate': 'constant', 'learning_rate_init': 0.3, 'max_iter': 1000, 'solver': 'sgd'}\n",
      "0.715(+/-0.106) for {'activation': 'tanh', 'hidden_layer_sizes': (50, 10), 'learning_rate': 'constant', 'learning_rate_init': 0.01, 'max_iter': 1000, 'solver': 'sgd'}\n",
      "0.657(+/-0.059) for {'activation': 'tanh', 'hidden_layer_sizes': (50, 10), 'learning_rate': 'constant', 'learning_rate_init': 0.1, 'max_iter': 1000, 'solver': 'sgd'}\n",
      "0.672(+/-0.067) for {'activation': 'tanh', 'hidden_layer_sizes': (50, 10), 'learning_rate': 'constant', 'learning_rate_init': 0.2, 'max_iter': 1000, 'solver': 'sgd'}\n",
      "0.631(+/-0.045) for {'activation': 'tanh', 'hidden_layer_sizes': (50, 10), 'learning_rate': 'constant', 'learning_rate_init': 0.3, 'max_iter': 1000, 'solver': 'sgd'}\n",
      "0.699(+/-0.051) for {'activation': 'tanh', 'hidden_layer_sizes': (100,), 'learning_rate': 'constant', 'learning_rate_init': 0.01, 'max_iter': 1000, 'solver': 'sgd'}\n",
      "0.573(+/-0.193) for {'activation': 'tanh', 'hidden_layer_sizes': (100,), 'learning_rate': 'constant', 'learning_rate_init': 0.1, 'max_iter': 1000, 'solver': 'sgd'}\n",
      "0.479(+/-0.248) for {'activation': 'tanh', 'hidden_layer_sizes': (100,), 'learning_rate': 'constant', 'learning_rate_init': 0.2, 'max_iter': 1000, 'solver': 'sgd'}\n",
      "0.624(+/-0.038) for {'activation': 'tanh', 'hidden_layer_sizes': (100,), 'learning_rate': 'constant', 'learning_rate_init': 0.3, 'max_iter': 1000, 'solver': 'sgd'}\n",
      "0.689(+/-0.063) for {'activation': 'logistic', 'hidden_layer_sizes': (10,), 'learning_rate': 'constant', 'learning_rate_init': 0.01, 'max_iter': 1000, 'solver': 'sgd'}\n",
      "0.667(+/-0.077) for {'activation': 'logistic', 'hidden_layer_sizes': (10,), 'learning_rate': 'constant', 'learning_rate_init': 0.1, 'max_iter': 1000, 'solver': 'sgd'}\n",
      "0.657(+/-0.072) for {'activation': 'logistic', 'hidden_layer_sizes': (10,), 'learning_rate': 'constant', 'learning_rate_init': 0.2, 'max_iter': 1000, 'solver': 'sgd'}\n",
      "0.665(+/-0.101) for {'activation': 'logistic', 'hidden_layer_sizes': (10,), 'learning_rate': 'constant', 'learning_rate_init': 0.3, 'max_iter': 1000, 'solver': 'sgd'}\n",
      "0.687(+/-0.118) for {'activation': 'logistic', 'hidden_layer_sizes': (50, 10), 'learning_rate': 'constant', 'learning_rate_init': 0.01, 'max_iter': 1000, 'solver': 'sgd'}\n",
      "0.672(+/-0.05) for {'activation': 'logistic', 'hidden_layer_sizes': (50, 10), 'learning_rate': 'constant', 'learning_rate_init': 0.1, 'max_iter': 1000, 'solver': 'sgd'}\n",
      "0.659(+/-0.071) for {'activation': 'logistic', 'hidden_layer_sizes': (50, 10), 'learning_rate': 'constant', 'learning_rate_init': 0.2, 'max_iter': 1000, 'solver': 'sgd'}\n",
      "0.671(+/-0.089) for {'activation': 'logistic', 'hidden_layer_sizes': (50, 10), 'learning_rate': 'constant', 'learning_rate_init': 0.3, 'max_iter': 1000, 'solver': 'sgd'}\n",
      "0.712(+/-0.087) for {'activation': 'logistic', 'hidden_layer_sizes': (100,), 'learning_rate': 'constant', 'learning_rate_init': 0.01, 'max_iter': 1000, 'solver': 'sgd'}\n",
      "0.65(+/-0.106) for {'activation': 'logistic', 'hidden_layer_sizes': (100,), 'learning_rate': 'constant', 'learning_rate_init': 0.1, 'max_iter': 1000, 'solver': 'sgd'}\n",
      "0.646(+/-0.089) for {'activation': 'logistic', 'hidden_layer_sizes': (100,), 'learning_rate': 'constant', 'learning_rate_init': 0.2, 'max_iter': 1000, 'solver': 'sgd'}\n",
      "0.642(+/-0.028) for {'activation': 'logistic', 'hidden_layer_sizes': (100,), 'learning_rate': 'constant', 'learning_rate_init': 0.3, 'max_iter': 1000, 'solver': 'sgd'}\n"
     ]
    }
   ],
   "source": [
    "#Multi-layer Perceptron (MLP) Classifier. It is a type of artificial neural network that consists of multiple layers of nodes, each connected to the next in a feedforward manner. \n",
    "parameters = {\n",
    "'hidden_layer_sizes': [(10,), (50,10), (100,)],\n",
    "'activation': ['relu', 'tanh', 'logistic'],\n",
    "'learning_rate': ['constant'],\n",
    "'learning_rate_init': [0.01, 0.1, 0.2,0.3],\n",
    "'max_iter': [1000],\n",
    "'solver': ['sgd']\n",
    "}\n",
    "cv = GridSearchCV(mlp, parameters, cv=5)\n",
    "cv.fit(tr_features, tr_labels.values.ravel())\n",
    "print_results(cv)\n",
    "\n",
    "#which model to pick corresponds to the one that has the highest accuracy"
   ]
  },
  {
   "cell_type": "code",
   "execution_count": 19,
   "id": "e09b3cb6",
   "metadata": {},
   "outputs": [
    {
     "data": {
      "text/plain": [
       "<function matplotlib.pyplot.show(close=None, block=None)>"
      ]
     },
     "execution_count": 19,
     "metadata": {},
     "output_type": "execute_result"
    },
    {
     "data": {
      "image/png": "[encoded data removed]",
      "text/plain": [
       "<Figure size 1000x700 with 1 Axes>"
      ]
     },
     "metadata": {},
     "output_type": "display_data"
    }
   ],
   "source": [
    "import matplotlib.pyplot as plt\n",
    "import numpy as np\n",
    "\n",
    "data = np.array([20,21,22,23,24,25,26])\n",
    "\n",
    "fig = plt.figure(figsize = (10,7))\n",
    "plt.boxplot(data)\n",
    "plt.show\n",
    "\n"
   ]
  }
 ],
 "metadata": {
  "kernelspec": {
   "display_name": "Python 3 (ipykernel)",
   "language": "python",
   "name": "python3"
  },
  "language_info": {
   "codemirror_mode": {
    "name": "ipython",
    "version": 3
   },
   "file_extension": ".py",
   "mimetype": "text/x-python",
   "name": "python",
   "nbconvert_exporter": "python",
   "pygments_lexer": "ipython3",
   "version": "3.11.4"
  }
 },
 "nbformat": 4,
 "nbformat_minor": 5
}
