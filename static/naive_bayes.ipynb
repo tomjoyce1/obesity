{
  "cells": [
    {
      "cell_type": "markdown",
      "metadata": {
        "id": "view-in-github",
        "colab_type": "text"
      },
      "source": [
        "<a href=\"https://colab.research.google.com/github/tomjoyce1/obesity/blob/Development/static/naive_bayes.ipynb\" target=\"_parent\"><img src=\"https://colab.research.google.com/assets/colab-badge.svg\" alt=\"Open In Colab\"/></a>"
      ]
    },
    {
      "cell_type": "code",
      "execution_count": 53,
      "id": "723e97b8",
      "metadata": {
        "id": "723e97b8"
      },
      "outputs": [],
      "source": [
        "import pandas as pd\n",
        "import matplotlib.pyplot as plt\n",
        "import numpy as np\n",
        "import seaborn as sns\n",
        "from scipy.stats import zscore\n",
        "from sklearn.preprocessing import StandardScaler\n",
        "from sklearn.model_selection import train_test_split\n",
        "import warnings\n",
        "from sklearn.naive_bayes import GaussianNB\n",
        "from sklearn.metrics import classification_report, accuracy_score\n",
        "warnings.filterwarnings('ignore')\n",
        "\n",
        "plt.style.use('ggplot')\n",
        "\n",
        "df = pd.read_csv('ObesityDataSet.csv')\n",
        "\n",
        "X = df.drop(columns=['obese_category'])\n",
        "y = df['obese_category']\n",
        "\n",
        "X_train, X_test, y_train, y_test = train_test_split(X, y, test_size=0.2, random_state=42) # Split dataset into 80/20 training"
      ]
    },
    {
      "cell_type": "code",
      "execution_count": 54,
      "id": "b7d46328",
      "metadata": {
        "collapsed": true,
        "id": "b7d46328",
        "colab": {
          "base_uri": "https://localhost:8080/"
        },
        "outputId": "a5f52906-cd2a-4c47-afa9-1873d30022d2"
      },
      "outputs": [
        {
          "output_type": "execute_result",
          "data": {
            "text/plain": [
              "Gender                            0\n",
              "Age                               0\n",
              "Height                            0\n",
              "Weight                            0\n",
              "family_history_with_overweight    0\n",
              "eat_high_caloric_food             0\n",
              "eat_vegetables_frequency          0\n",
              "main_meals_day                    0\n",
              "eat_between_meals                 0\n",
              "smoke                             0\n",
              "water_day                         0\n",
              "monitor_calories                  0\n",
              "exercise_frequency                0\n",
              "device_time                       0\n",
              "drink_alcohol                     0\n",
              "transport_mode                    0\n",
              "dtype: int64"
            ]
          },
          "metadata": {},
          "execution_count": 54
        }
      ],
      "source": [
        "X.isnull().sum() # Check for missing values"
      ]
    },
    {
      "cell_type": "code",
      "execution_count": 55,
      "id": "a138293e",
      "metadata": {
        "collapsed": true,
        "id": "a138293e"
      },
      "outputs": [],
      "source": [
        "target_mapping = {\n",
        "    'Insufficient_Weight': 0,\n",
        "    'Normal_Weight': 1,\n",
        "    'Overweight_Level_I': 2,\n",
        "    'Overweight_Level_II': 3,\n",
        "    'Obesity_Type_I': 4,\n",
        "    'Obesity_Type_II': 5,\n",
        "    'Obesity_Type_III': 6\n",
        "}\n",
        "X['BMI'] = X['Weight']/(X['Height']**2)\n",
        "\n",
        "X.reset_index(drop=True, inplace=True)"
      ]
    },
    {
      "cell_type": "code",
      "execution_count": 56,
      "id": "910adaa5",
      "metadata": {
        "collapsed": true,
        "id": "910adaa5"
      },
      "outputs": [],
      "source": [
        "# Removing outliers using Z-Scores\n",
        "\n",
        "mean = X.mean()\n",
        "std = X.std()\n",
        "\n",
        "# Calculate the lower and upper bounds\n",
        "lower_bound = mean - 3 * std\n",
        "upper_bound = mean + 3 * std\n",
        "\n",
        "# Remove data points outside of the bounds\n",
        "cleaned_X = X[(X >= lower_bound) & (X <= upper_bound)]"
      ]
    },
    {
      "cell_type": "code",
      "source": [
        "# Perform one-hot encoding on categorical variables\n",
        "X_encoded = pd.get_dummies(X, drop_first=True)\n",
        "\n",
        "# Split the encoded data into training and testing sets\n",
        "X_train_encoded, X_test_encoded, y_train_encoded, y_test_encoded = train_test_split(X_encoded, y, test_size=0.2, random_state=42)\n",
        "\n",
        "# Instantiate the Naive Bayes classifier\n",
        "naive_bayes = GaussianNB()\n",
        "\n",
        "# Train the classifier on the training data\n",
        "naive_bayes.fit(X_train_encoded, y_train_encoded)\n",
        "\n",
        "# Make predictions on the test data\n",
        "y_pred_encoded = naive_bayes.predict(X_test_encoded)\n",
        "\n",
        "# Evaluate the performance of the classifier\n",
        "accuracy_encoded = accuracy_score(y_test_encoded, y_pred_encoded)\n",
        "print(\"Accuracy (with one-hot encoding):\", accuracy_encoded)\n",
        "\n",
        "# Generate classification report\n",
        "print(classification_report(y_test_encoded, y_pred_encoded))\n"
      ],
      "metadata": {
        "colab": {
          "base_uri": "https://localhost:8080/"
        },
        "id": "wHi45pHnBlzN",
        "outputId": "bb50a646-5c1f-472f-f4b9-36d8b620a2c5"
      },
      "id": "wHi45pHnBlzN",
      "execution_count": 57,
      "outputs": [
        {
          "output_type": "stream",
          "name": "stdout",
          "text": [
            "Accuracy (with one-hot encoding): 0.7375886524822695\n",
            "                     precision    recall  f1-score   support\n",
            "\n",
            "Insufficient_Weight       0.77      0.98      0.87        56\n",
            "      Normal_Weight       0.79      0.60      0.68        62\n",
            "     Obesity_Type_I       0.70      0.72      0.71        78\n",
            "    Obesity_Type_II       0.78      0.98      0.87        58\n",
            "   Obesity_Type_III       0.97      1.00      0.98        63\n",
            " Overweight_Level_I       0.69      0.32      0.44        56\n",
            "Overweight_Level_II       0.43      0.52      0.47        50\n",
            "\n",
            "           accuracy                           0.74       423\n",
            "          macro avg       0.73      0.73      0.72       423\n",
            "       weighted avg       0.74      0.74      0.72       423\n",
            "\n"
          ]
        }
      ]
    }
  ],
  "metadata": {
    "kernelspec": {
      "display_name": "Python 3 (ipykernel)",
      "language": "python",
      "name": "python3"
    },
    "language_info": {
      "codemirror_mode": {
        "name": "ipython",
        "version": 3
      },
      "file_extension": ".py",
      "mimetype": "text/x-python",
      "name": "python",
      "nbconvert_exporter": "python",
      "pygments_lexer": "ipython3",
      "version": "3.11.4"
    },
    "colab": {
      "provenance": [],
      "include_colab_link": true
    }
  },
  "nbformat": 4,
  "nbformat_minor": 5
}