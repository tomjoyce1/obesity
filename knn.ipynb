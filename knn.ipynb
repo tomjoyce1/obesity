{
  "nbformat": 4,
  "nbformat_minor": 0,
  "metadata": {
    "colab": {
      "provenance": [],
      "authorship_tag": "ABX9TyNeMY4o4Pky3pBVVS79NZmm",
      "include_colab_link": true
    },
    "kernelspec": {
      "name": "python3",
      "display_name": "Python 3"
    },
    "language_info": {
      "name": "python"
    }
  },
  "cells": [
    {
      "cell_type": "markdown",
      "metadata": {
        "id": "view-in-github",
        "colab_type": "text"
      },
      "source": [
        "<a href=\"https://colab.research.google.com/github/tomjoyce1/obesity/blob/Development/knn.ipynb\" target=\"_parent\"><img src=\"https://colab.research.google.com/assets/colab-badge.svg\" alt=\"Open In Colab\"/></a>"
      ]
    },
    {
      "cell_type": "code",
      "execution_count": 4,
      "metadata": {
        "colab": {
          "base_uri": "https://localhost:8080/"
        },
        "id": "WgWIZRABEWhN",
        "outputId": "3aad7f60-dd07-450d-b9a1-bdb218271f0a"
      },
      "outputs": [
        {
          "output_type": "stream",
          "name": "stdout",
          "text": [
            "Accuracy (with KNN): 0.8723506743737958\n",
            "                     precision    recall  f1-score   support\n",
            "\n",
            "Insufficient_Weight       0.91      0.94      0.92       255\n",
            "      Normal_Weight       0.88      0.81      0.84       330\n",
            "     Obesity_Type_I       0.87      0.84      0.85       260\n",
            "    Obesity_Type_II       0.95      0.94      0.94       337\n",
            "   Obesity_Type_III       0.97      0.98      0.98       404\n",
            " Overweight_Level_I       0.71      0.76      0.73       244\n",
            "Overweight_Level_II       0.75      0.75      0.75       246\n",
            "\n",
            "           accuracy                           0.87      2076\n",
            "          macro avg       0.86      0.86      0.86      2076\n",
            "       weighted avg       0.87      0.87      0.87      2076\n",
            "\n"
          ]
        }
      ],
      "source": [
        "import pandas as pd\n",
        "import matplotlib.pyplot as plt\n",
        "import numpy as np\n",
        "import seaborn as sns\n",
        "from scipy.stats import zscore\n",
        "from sklearn.preprocessing import StandardScaler\n",
        "from sklearn.model_selection import train_test_split\n",
        "from sklearn.naive_bayes import GaussianNB\n",
        "from sklearn.metrics import classification_report, accuracy_score\n",
        "from sklearn.neighbors import KNeighborsClassifier\n",
        "import warnings\n",
        "\n",
        "warnings.filterwarnings('ignore')\n",
        "plt.style.use('ggplot')\n",
        "\n",
        "# Load dataset\n",
        "df = pd.read_csv('train.csv')\n",
        "\n",
        "# Preprocess data\n",
        "X = df.drop(columns=['obese_category', 'Gender', 'water_day', 'smoke', 'transport_mode'])\n",
        "y = df['obese_category']\n",
        "X['BMI'] = X['Weight'] / (X['Height'] ** 2)\n",
        "mean = X.mean()\n",
        "std = X.std()\n",
        "lower_bound = mean - 3 * std\n",
        "upper_bound = mean + 3 * std\n",
        "cleaned_X = X[(X >= lower_bound) & (X <= upper_bound)]\n",
        "X_encoded = pd.get_dummies(X, drop_first=True)\n",
        "X_train_encoded, X_test_encoded, y_train_encoded, y_test_encoded = train_test_split(X_encoded, y, test_size=0.1, random_state=42)\n",
        "\n",
        "\n",
        "# Initialize and fit KNN model\n",
        "knn = KNeighborsClassifier(n_neighbors=5)  # You can adjust the number of neighbors (n_neighbors) as needed\n",
        "knn.fit(X_train_encoded, y_train_encoded)\n",
        "\n",
        "# Prediction using KNN\n",
        "y_pred_knn = knn.predict(X_test_encoded)\n",
        "\n",
        "# Display KNN Results\n",
        "accuracy_knn = accuracy_score(y_test_encoded, y_pred_knn)\n",
        "print(\"Accuracy (with KNN):\", accuracy_knn)\n",
        "print(classification_report(y_test_encoded, y_pred_knn))\n"
      ]
    }
  ]
}